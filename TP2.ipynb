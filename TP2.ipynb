{
 "cells": [
  {
   "cell_type": "markdown",
   "metadata": {},
   "source": [
    "# TP2: Planificación de Conexión de Oficinas de Atención a Internet"
   ]
  },
  {
   "cell_type": "markdown",
   "metadata": {},
   "source": [
    "Integrantes: Micaela Oliva, Camila Bernardez, Sol Valeggia, Juan Castore"
   ]
  },
  {
   "cell_type": "markdown",
   "metadata": {},
   "source": [
    "## Contexto\n",
    "Estamos en el área de planificación de una empresa de cobros minoristas, y tenemos la responsabilidad de conectar a Internet 56 oficinas de atención al cliente, distribuidas en el micro y macrocentro de la ciudad. La empresa de telefonía nos ha propuesto hasta 10 centrales operativas que pueden ser utilizadas para abastecer estas oficinas, sujetas a las siguientes restricciones:\n",
    "\n",
    "### Restricciones\n",
    "1. Cada oficina debe estar conectada con una central operativa.\n",
    "2. Cada oficina tiene una demanda de operaciones por hora, y cada central operativa tiene una capacidad máxima de 15.000 operaciones por hora. Esto implica que la suma de las operaciones por hora de las oficinas conectadas a cada central no puede superar las 15.000 operaciones.\n",
    "\n",
    "## Objetivo\n",
    "El objetivo de la planificación es determinar:\n",
    "1. Qué centrales operativas utilizar.\n",
    "2. Qué central operativa debe atender a cada oficina.\n",
    "\n",
    "Para cumplir con estas restricciones y minimizar el costo total, considerando:\n",
    "\n",
    "- **Costo de apertura**: USD 5.700 por cada central operativa utilizada.\n",
    "- **Costo de cableado**: Cada oficina se conecta a una central mediante un cable directo cuya longitud es $d_{ij}$ en metros entre la oficina $i $ y la central $j$. El cable tiene un costo de USD 17 por cada 1.000 metros.\n"
   ]
  },
  {
   "cell_type": "markdown",
   "metadata": {},
   "source": [
    "### 1. Modelo de Programación Lineal Entera\n",
    "   - **Variables de Decisión**: \n",
    "     - $x_{ij}$: Variable binaria que indica si la oficina $i$ está conectada a la central $j$.\n",
    "     - $y_j$: Variable binaria que indica si la central $j$ está en operación.\n",
    "   - **Función Objetivo**: Minimizar el costo total, que se compone del costo de apertura de las centrales y el costo de cableado.\n",
    "   - **Restricciones**: \n",
    "     - Cada oficina debe estar conectada a una y solo una central operativa.\n",
    "     - La suma de operaciones de las oficinas conectadas a una central no puede exceder su capacidad máxima.\n",
    "     - Solo pueden conectarse oficinas a centrales que estén en operación.\n",
    "\n"
   ]
  },
  {
   "cell_type": "code",
   "execution_count": null,
   "metadata": {
    "vscode": {
     "languageId": "plaintext"
    }
   },
   "outputs": [],
   "source": []
  },
  {
   "cell_type": "markdown",
   "metadata": {},
   "source": [
    "### 2. Análisis de Restricciones Adicionales\n",
    "   - Implementar una nueva restricción en el modelo donde el número de oficinas conectadas a cada central no supere las 10.\n",
    "   - Analizar el impacto de esta restricción en los resultados del modelo, especialmente en el costo total y en la distribución de las conexiones.\n"
   ]
  },
  {
   "cell_type": "code",
   "execution_count": null,
   "metadata": {
    "vscode": {
     "languageId": "plaintext"
    }
   },
   "outputs": [],
   "source": []
  },
  {
   "cell_type": "markdown",
   "metadata": {},
   "source": [
    "### 3. Determinación de la Capacidad Mínima\n",
    "   - Incrementar gradualmente la capacidad máxima permitida de operaciones por hora para cada central y evaluar la factibilidad del modelo.\n",
    "   - Determinar la capacidad mínima que permite una asignación factible para todas las oficinas.\n"
   ]
  },
  {
   "cell_type": "code",
   "execution_count": null,
   "metadata": {
    "vscode": {
     "languageId": "plaintext"
    }
   },
   "outputs": [],
   "source": []
  },
  {
   "cell_type": "markdown",
   "metadata": {},
   "source": [
    "### 4. Evaluación del Tiempo de Resolución\n",
    "   - Generar instancias aleatorias variando el número de oficinas y centrales operativas.\n",
    "   - Medir el tiempo de resolución del solver y determinar el tamaño de instancia que marca el límite de tiempos de resolución aceptables.\n"
   ]
  },
  {
   "cell_type": "code",
   "execution_count": null,
   "metadata": {
    "vscode": {
     "languageId": "plaintext"
    }
   },
   "outputs": [],
   "source": []
  },
  {
   "cell_type": "markdown",
   "metadata": {},
   "source": [
    "## Conclusiones\n",
    "Este análisis permitirá tomar decisiones informadas sobre la selección y configuración de las centrales operativas y la conexión de las oficinas, optimizando tanto el costo como la eficiencia operativa en el abastecimiento de las oficinas con servicio de Internet.\n"
   ]
  }
 ],
 "metadata": {
  "language_info": {
   "name": "python"
  }
 },
 "nbformat": 4,
 "nbformat_minor": 2
}
